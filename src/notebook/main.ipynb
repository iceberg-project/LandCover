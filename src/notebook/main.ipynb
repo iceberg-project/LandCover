{
 "cells": [
  {
   "cell_type": "markdown",
   "metadata": {},
   "source": [
    "<b>Rune the pipeline</b>\n",
    " This notebook describes the LandCover pipeline.<br>\n",
    " The input is raw digital imagery located in subdirectory <b>Data</b>.<br>\n",
    " Output in each stage is placed in the input subdirectory.<br>\n",
    " Final output are shapefiles of landcover classification regions.\n",
    " <br>\n",
    " Authors: Helen Eifert, Brad Spitzbart, Brian Szutu  <br>\n",
    " Emails: he248@nau.edu, bradley.spitzbart@stonybrook.edu, bs886@nau.edu <br>\n",
    " License: MIT <br>\n",
    " Copyright: 2018-2019"
   ]
  },
  {
   "cell_type": "markdown",
   "metadata": {},
   "source": [
    "1) Convert raw digital number image to top of atmosphere radiance"
   ]
  },
  {
   "cell_type": "code",
   "execution_count": 1,
   "metadata": {},
   "outputs": [],
   "source": [
    "%run \"./rad.ipynb -ip Data\""
   ]
  },
  {
   "cell_type": "markdown",
   "metadata": {},
   "source": [
    "2) Convert radiance to surface reflectance<br>\n",
    "This notebook calls atmcorr_regr.ipynb and atmcorr_specmath.ipynb"
   ]
  },
  {
   "cell_type": "code",
   "execution_count": 2,
   "metadata": {},
   "outputs": [],
   "source": [
    "%run \"./refl.ipynb -ip Data\""
   ]
  },
  {
   "cell_type": "markdown",
   "metadata": {},
   "source": [
    "3) Create masks for landcover classifications<br>\n",
    "The current default classes are water, snow/ice, and rock (geologic features)"
   ]
  },
  {
   "cell_type": "code",
   "execution_count": 3,
   "metadata": {},
   "outputs": [],
   "source": [
    "%run \"./class.ipynb -ip Data\""
   ]
  },
  {
   "cell_type": "markdown",
   "metadata": {},
   "source": [
    "4) Group classifications into shapefiles"
   ]
  },
  {
   "cell_type": "code",
   "execution_count": 4,
   "metadata": {},
   "outputs": [],
   "source": [
    "%run \"./shp.ipynb -ip Data\""
   ]
  }
 ],
 "metadata": {
  "anaconda-cloud": {},
  "kernelspec": {
   "display_name": "Python 2",
   "language": "python",
   "name": "python2"
  },
  "language_info": {
   "codemirror_mode": {
    "name": "ipython",
    "version": 2
   },
   "file_extension": ".py",
   "mimetype": "text/x-python",
   "name": "python",
   "nbconvert_exporter": "python",
   "pygments_lexer": "ipython2",
   "version": "2.7.17"
  }
 },
 "nbformat": 4,
 "nbformat_minor": 1
}
